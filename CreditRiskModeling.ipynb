{
 "cells": [
  {
   "cell_type": "code",
   "execution_count": 33,
   "metadata": {},
   "outputs": [],
   "source": [
    "# Import basic libraries \n",
    "import pandas as pd \n",
    "import numpy as np\n",
    "import matplotlib.pyplot as plt        \n",
    "%matplotlib inline\n",
    "\n",
    "import sklearn.preprocessing as skp\n",
    "import sklearn.model_selection as skm\n",
    "\n",
    "#import classification modules\n",
    "from sklearn.linear_model import LogisticRegression\n",
    "from sklearn.ensemble import RandomForestClassifier\n",
    "from sklearn.neighbors import KNeighborsClassifier\n",
    "#new modules added\n",
    "from sklearn.svm import SVC\n",
    "from sklearn.ensemble import GradientBoostingClassifier\n",
    "from sklearn.ensemble import AdaBoostClassifier\n",
    "from sklearn.tree import DecisionTreeClassifier\n",
    "from sklearn.neural_network import MLPClassifier\n",
    "from sklearn.naive_bayes import GaussianNB\n",
    "\n",
    "from sklearn.metrics import accuracy_score, confusion_matrix,precision_score, recall_score, roc_auc_score,roc_curve, auc, f1_score\n",
    "\n",
    "import warnings\n",
    "warnings.filterwarnings('ignore')"
   ]
  },
  {
   "cell_type": "markdown",
   "metadata": {},
   "source": [
    "# Importing Data"
   ]
  },
  {
   "cell_type": "code",
   "execution_count": 34,
   "metadata": {},
   "outputs": [
    {
     "name": "stdout",
     "output_type": "stream",
     "text": [
      "Shape is:  (424, 20)\n",
      "\n",
      " Columns with Types: \n",
      " Default                                    object\n",
      "Long Term Financing of Working Capital    float64\n",
      "Working Capital Requirement               float64\n",
      "Debt Cash Flow Coverage Ratio             float64\n",
      "Liability to Equity                       float64\n",
      "Net Debt to Equity Ratio                  float64\n",
      "Debt to Capital Ratio                     float64\n",
      "Long Term Debt to Asset                   float64\n",
      "Long Term Debt to Tangible Asset          float64\n",
      "Interest Coverage Ratio                   float64\n",
      "Net Profit Margin                         float64\n",
      "Gross Profit Margin                       float64\n",
      "Return on Invested Capital                float64\n",
      "Return on Equity                          float64\n",
      "Fixed Asset to Debt Ratio                 float64\n",
      "Short Term Debt to Sales Ratio            float64\n",
      "Expense to Revenue Ratio                  float64\n",
      "Fixed Asset Turnover                      float64\n",
      "Collateral                                float64\n",
      "Firm Size                                 float64\n",
      "dtype: object\n"
     ]
    }
   ],
   "source": [
    "datadf = pd.read_csv(\"creditriskmodeling.csv\")\n",
    "print(\"Shape is: \", datadf.shape)\n",
    "print(\"\\n Columns with Types: \\n\", datadf.dtypes)"
   ]
  },
  {
   "cell_type": "markdown",
   "metadata": {},
   "source": [
    "## Checking For Null Values"
   ]
  },
  {
   "cell_type": "code",
   "execution_count": 35,
   "metadata": {},
   "outputs": [
    {
     "data": {
      "text/plain": [
       "Default                                   34\n",
       "Long Term Financing of Working Capital     0\n",
       "Working Capital Requirement                0\n",
       "Debt Cash Flow Coverage Ratio              0\n",
       "Liability to Equity                        0\n",
       "Net Debt to Equity Ratio                   0\n",
       "Debt to Capital Ratio                      0\n",
       "Long Term Debt to Asset                    0\n",
       "Long Term Debt to Tangible Asset           0\n",
       "Interest Coverage Ratio                    0\n",
       "Net Profit Margin                          0\n",
       "Gross Profit Margin                        0\n",
       "Return on Invested Capital                 0\n",
       "Return on Equity                           0\n",
       "Fixed Asset to Debt Ratio                  0\n",
       "Short Term Debt to Sales Ratio             0\n",
       "Expense to Revenue Ratio                   0\n",
       "Fixed Asset Turnover                       0\n",
       "Collateral                                 0\n",
       "Firm Size                                  0\n",
       "dtype: int64"
      ]
     },
     "execution_count": 35,
     "metadata": {},
     "output_type": "execute_result"
    }
   ],
   "source": [
    "datadf.isnull().sum()"
   ]
  },
  {
   "cell_type": "markdown",
   "metadata": {},
   "source": [
    "## Removing Null Values "
   ]
  },
  {
   "cell_type": "code",
   "execution_count": 36,
   "metadata": {},
   "outputs": [
    {
     "data": {
      "text/plain": [
       "Default                                   0\n",
       "Long Term Financing of Working Capital    0\n",
       "Working Capital Requirement               0\n",
       "Debt Cash Flow Coverage Ratio             0\n",
       "Liability to Equity                       0\n",
       "Net Debt to Equity Ratio                  0\n",
       "Debt to Capital Ratio                     0\n",
       "Long Term Debt to Asset                   0\n",
       "Long Term Debt to Tangible Asset          0\n",
       "Interest Coverage Ratio                   0\n",
       "Net Profit Margin                         0\n",
       "Gross Profit Margin                       0\n",
       "Return on Invested Capital                0\n",
       "Return on Equity                          0\n",
       "Fixed Asset to Debt Ratio                 0\n",
       "Short Term Debt to Sales Ratio            0\n",
       "Expense to Revenue Ratio                  0\n",
       "Fixed Asset Turnover                      0\n",
       "Collateral                                0\n",
       "Firm Size                                 0\n",
       "dtype: int64"
      ]
     },
     "execution_count": 36,
     "metadata": {},
     "output_type": "execute_result"
    }
   ],
   "source": [
    "datadf = datadf.dropna(axis=0)\n",
    "datadf.isnull().sum()"
   ]
  },
  {
   "cell_type": "markdown",
   "metadata": {},
   "source": [
    "## Preprocessing Data"
   ]
  },
  {
   "cell_type": "code",
   "execution_count": 40,
   "metadata": {},
   "outputs": [
    {
     "name": "stdout",
     "output_type": "stream",
     "text": [
      "Shape of X:  (390, 19)\n",
      "Shape of y:  (390,)\n"
     ]
    }
   ],
   "source": [
    "y = datadf['Default'].copy()\n",
    "X = datadf.drop('Default',axis=1)\n",
    "print(\"Shape of X: \", X.shape)\n",
    "print(\"Shape of y: \", y.shape)"
   ]
  },
  {
   "cell_type": "code",
   "execution_count": 41,
   "metadata": {},
   "outputs": [
    {
     "data": {
      "text/plain": [
       "array([-0.98641683, -0.13399376,  1.69312385, -0.52589396, -0.9955322 ,\n",
       "       -0.7693831 , -0.59663551, -0.44572108, -1.16854263,  0.55572255,\n",
       "        1.53728781, -0.34193101,  0.70173341, -0.33827082,  0.84224927,\n",
       "       -0.40105185, -1.1052961 ,  2.69069014, -0.50084072])"
      ]
     },
     "execution_count": 41,
     "metadata": {},
     "output_type": "execute_result"
    }
   ],
   "source": [
    "X = skp.StandardScaler().fit(X).transform(X)   \n",
    "X[10]"
   ]
  },
  {
   "cell_type": "code",
   "execution_count": 42,
   "metadata": {},
   "outputs": [],
   "source": [
    "level_map = {'Yes': 1, 'No': 0}\n",
    "y = y.map(level_map)"
   ]
  },
  {
   "cell_type": "markdown",
   "metadata": {},
   "source": [
    "## Dividing data into Training and Testing Data"
   ]
  },
  {
   "cell_type": "code",
   "execution_count": 43,
   "metadata": {},
   "outputs": [],
   "source": [
    "trainX, testX, trainy, testy= skm.train_test_split(X, y, test_size=0.25, random_state=99)   "
   ]
  },
  {
   "cell_type": "markdown",
   "metadata": {},
   "source": [
    "# Models"
   ]
  },
  {
   "cell_type": "markdown",
   "metadata": {},
   "source": [
    "# 1. Logistic Regression"
   ]
  },
  {
   "cell_type": "code",
   "execution_count": 48,
   "metadata": {},
   "outputs": [
    {
     "name": "stdout",
     "output_type": "stream",
     "text": [
      "Accuracy: \n",
      " 93.87755102040816\n",
      "AUC: \n",
      " 0.9194520547945205\n"
     ]
    }
   ],
   "source": [
    "#Logistic Regression\n",
    "clf = LogisticRegression()\n",
    "clf.fit(trainX,trainy)\n",
    "predictions = clf.predict(testX)\n",
    "print(\"Accuracy: \\n\", accuracy_score(testy, predictions)*100)#get FPR (specificity) and TPR (sensitivity)\n",
    "fpr , tpr, _ = roc_curve(testy, predictions)\n",
    "print(\"AUC: \\n\",auc(fpr, tpr))"
   ]
  },
  {
   "cell_type": "markdown",
   "metadata": {},
   "source": [
    "# 2. K-NN"
   ]
  },
  {
   "cell_type": "code",
   "execution_count": 49,
   "metadata": {},
   "outputs": [
    {
     "name": "stdout",
     "output_type": "stream",
     "text": [
      "Accuracy: \n",
      " 89.79591836734694\n",
      "AUC: \n",
      " 0.8394520547945206\n"
     ]
    }
   ],
   "source": [
    "#K-NN\n",
    "clf = KNeighborsClassifier()\n",
    "clf.fit(trainX,trainy)\n",
    "predictions = clf.predict(testX)\n",
    "print(\"Accuracy: \\n\", accuracy_score(testy, predictions)*100)#get FPR (specificity) and TPR (sensitivity)\n",
    "fpr , tpr, _ = roc_curve(testy, predictions)\n",
    "print(\"AUC: \\n\",auc(fpr, tpr))"
   ]
  },
  {
   "cell_type": "markdown",
   "metadata": {},
   "source": [
    "# Support Vector Machines (SVM)\n"
   ]
  },
  {
   "cell_type": "code",
   "execution_count": 50,
   "metadata": {},
   "outputs": [
    {
     "name": "stdout",
     "output_type": "stream",
     "text": [
      "Accuracy: \n",
      " 92.85714285714286\n",
      "AUC: \n",
      " 0.8731506849315067\n"
     ]
    }
   ],
   "source": [
    "#Support Vector machines\n",
    "clf = SVC()\n",
    "clf.fit(trainX,trainy)\n",
    "predictions = clf.predict(testX)\n",
    "print(\"Accuracy: \\n\", accuracy_score(testy, predictions)*100)#get FPR (specificity) and TPR (sensitivity)\n",
    "fpr , tpr, _ = roc_curve(testy, predictions)\n",
    "print(\"AUC: \\n\",auc(fpr, tpr))"
   ]
  },
  {
   "cell_type": "markdown",
   "metadata": {},
   "source": [
    "# Random Forest Classifier"
   ]
  },
  {
   "cell_type": "code",
   "execution_count": 51,
   "metadata": {},
   "outputs": [
    {
     "name": "stdout",
     "output_type": "stream",
     "text": [
      "Accuracy: \n",
      " 92.85714285714286\n",
      "AUC: \n",
      " 0.8863013698630137\n"
     ]
    }
   ],
   "source": [
    "#Random Forest Classifier\n",
    "clf = RandomForestClassifier()\n",
    "clf.fit(trainX,trainy)\n",
    "predictions = clf.predict(testX)\n",
    "print(\"Accuracy: \\n\", accuracy_score(testy, predictions)*100)#get FPR (specificity) and TPR (sensitivity)\n",
    "fpr , tpr, _ = roc_curve(testy, predictions)\n",
    "print(\"AUC: \\n\",auc(fpr, tpr))"
   ]
  },
  {
   "cell_type": "markdown",
   "metadata": {},
   "source": [
    "# Decision Tree"
   ]
  },
  {
   "cell_type": "code",
   "execution_count": 52,
   "metadata": {},
   "outputs": [
    {
     "name": "stdout",
     "output_type": "stream",
     "text": [
      "Accuracy: \n",
      " 87.75510204081633\n",
      "AUC: \n",
      " 0.852054794520548\n"
     ]
    }
   ],
   "source": [
    "#Decision Tree\n",
    "clf = DecisionTreeClassifier()\n",
    "clf.fit(trainX,trainy)\n",
    "predictions = clf.predict(testX)\n",
    "print(\"Accuracy: \\n\", accuracy_score(testy, predictions)*100)#get FPR (specificity) and TPR (sensitivity)\n",
    "fpr , tpr, _ = roc_curve(testy, predictions)\n",
    "print(\"AUC: \\n\",auc(fpr, tpr))"
   ]
  },
  {
   "cell_type": "markdown",
   "metadata": {},
   "source": [
    "# Multilayer Perceptron (MLP)"
   ]
  },
  {
   "cell_type": "code",
   "execution_count": 53,
   "metadata": {},
   "outputs": [
    {
     "name": "stdout",
     "output_type": "stream",
     "text": [
      "Accuracy: \n",
      " 91.83673469387756\n",
      "AUC: \n",
      " 0.8794520547945207\n"
     ]
    }
   ],
   "source": [
    "#MLP\n",
    "clf = MLPClassifier()\n",
    "clf.fit(trainX,trainy)\n",
    "predictions = clf.predict(testX)\n",
    "print(\"Accuracy: \\n\", accuracy_score(testy, predictions)*100)#get FPR (specificity) and TPR (sensitivity)\n",
    "fpr , tpr, _ = roc_curve(testy, predictions)\n",
    "print(\"AUC: \\n\",auc(fpr, tpr))"
   ]
  },
  {
   "cell_type": "markdown",
   "metadata": {},
   "source": [
    "# Naive Baye's "
   ]
  },
  {
   "cell_type": "code",
   "execution_count": 54,
   "metadata": {},
   "outputs": [
    {
     "name": "stdout",
     "output_type": "stream",
     "text": [
      "Accuracy: \n",
      " 95.91836734693877\n",
      "AUC: \n",
      " 0.9463013698630137\n"
     ]
    }
   ],
   "source": [
    "#NB\n",
    "clf = GaussianNB()\n",
    "clf.fit(trainX,trainy)\n",
    "predictions = clf.predict(testX)\n",
    "print(\"Accuracy: \\n\", accuracy_score(testy, predictions)*100)#get FPR (specificity) and TPR (sensitivity)\n",
    "fpr , tpr, _ = roc_curve(testy, predictions)\n",
    "print(\"AUC: \\n\",auc(fpr, tpr))"
   ]
  },
  {
   "cell_type": "markdown",
   "metadata": {},
   "source": [
    "# Gradient Boosting Classifier"
   ]
  },
  {
   "cell_type": "code",
   "execution_count": 55,
   "metadata": {},
   "outputs": [
    {
     "name": "stdout",
     "output_type": "stream",
     "text": [
      "Accuracy: \n",
      " 93.87755102040816\n",
      "AUC: \n",
      " 0.9063013698630137\n"
     ]
    }
   ],
   "source": [
    "#Gradient Boosting Classifier\n",
    "clf = GradientBoostingClassifier()\n",
    "clf.fit(trainX,trainy)\n",
    "predictions = clf.predict(testX)\n",
    "print(\"Accuracy: \\n\", accuracy_score(testy, predictions)*100)#get FPR (specificity) and TPR (sensitivity)\n",
    "fpr , tpr, _ = roc_curve(testy, predictions)\n",
    "print(\"AUC: \\n\",auc(fpr, tpr))"
   ]
  },
  {
   "cell_type": "markdown",
   "metadata": {},
   "source": [
    "# Adaboost Classifier"
   ]
  },
  {
   "cell_type": "code",
   "execution_count": 56,
   "metadata": {},
   "outputs": [
    {
     "name": "stdout",
     "output_type": "stream",
     "text": [
      "Accuracy: \n",
      " 94.89795918367348\n",
      "AUC: \n",
      " 0.9263013698630136\n"
     ]
    }
   ],
   "source": [
    "#Adaboost Classifier\n",
    "clf = AdaBoostClassifier()\n",
    "clf.fit(trainX,trainy)\n",
    "predictions = clf.predict(testX)\n",
    "print(\"Accuracy: \\n\", accuracy_score(testy, predictions)*100)#get FPR (specificity) and TPR (sensitivity)\n",
    "fpr , tpr, _ = roc_curve(testy, predictions)\n",
    "print(\"AUC: \\n\",auc(fpr, tpr))"
   ]
  },
  {
   "cell_type": "markdown",
   "metadata": {},
   "source": [
    "# Conclusion"
   ]
  },
  {
   "cell_type": "markdown",
   "metadata": {},
   "source": [
    "Naive Bayes gives a score of approx 96%."
   ]
  }
 ],
 "metadata": {
  "kernelspec": {
   "display_name": "Python 3",
   "language": "python",
   "name": "python3"
  },
  "language_info": {
   "codemirror_mode": {
    "name": "ipython",
    "version": 3
   },
   "file_extension": ".py",
   "mimetype": "text/x-python",
   "name": "python",
   "nbconvert_exporter": "python",
   "pygments_lexer": "ipython3",
   "version": "3.7.4"
  }
 },
 "nbformat": 4,
 "nbformat_minor": 4
}
